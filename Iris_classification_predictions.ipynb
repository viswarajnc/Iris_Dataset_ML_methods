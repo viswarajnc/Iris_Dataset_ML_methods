{
 "cells": [
  {
   "cell_type": "markdown",
   "id": "b52fcd4c",
   "metadata": {},
   "source": [
    "# Case study on Supervised learning\n",
    "\n",
    "# Do the following in the iris dataset.\n",
    "# 1. Read the dataset to the python environment.\n",
    "# 2. Do necessary pre-processing steps.\n",
    "# 3. Find out which classification model gives the best result to predict iris species.(also do random forest algorithm)\n",
    " "
   ]
  },
  {
   "cell_type": "markdown",
   "id": "cd6b9ded",
   "metadata": {},
   "source": [
    "#####################################################################################################################"
   ]
  },
  {
   "cell_type": "markdown",
   "id": "2383b2d4",
   "metadata": {},
   "source": [
    "# 1. Read the dataset to the python environment."
   ]
  },
  {
   "cell_type": "code",
   "execution_count": 114,
   "id": "754ffbef",
   "metadata": {},
   "outputs": [],
   "source": [
    "#import all the relevant libraries\n",
    "import pandas as pd\n",
    "import numpy as np\n",
    "import matplotlib.pyplot as plt\n",
    "import seaborn as sns\n",
    "\n",
    "#Load the latest xls sheet to a variable named spreadsheet\n",
    "iris_spreadsheet = pd.ExcelFile(r\"iris_Jan.xls\")\n",
    "#Move the first sheet (with index value 0) to iris_data\n",
    "iris_data = spreadsheet.parse(0)"
   ]
  },
  {
   "cell_type": "code",
   "execution_count": 115,
   "id": "bf02a015",
   "metadata": {},
   "outputs": [
    {
     "data": {
      "text/html": [
       "<div>\n",
       "<style scoped>\n",
       "    .dataframe tbody tr th:only-of-type {\n",
       "        vertical-align: middle;\n",
       "    }\n",
       "\n",
       "    .dataframe tbody tr th {\n",
       "        vertical-align: top;\n",
       "    }\n",
       "\n",
       "    .dataframe thead th {\n",
       "        text-align: right;\n",
       "    }\n",
       "</style>\n",
       "<table border=\"1\" class=\"dataframe\">\n",
       "  <thead>\n",
       "    <tr style=\"text-align: right;\">\n",
       "      <th></th>\n",
       "      <th>SL</th>\n",
       "      <th>SW</th>\n",
       "      <th>PL</th>\n",
       "      <th>PW</th>\n",
       "      <th>Classification</th>\n",
       "    </tr>\n",
       "  </thead>\n",
       "  <tbody>\n",
       "    <tr>\n",
       "      <th>0</th>\n",
       "      <td>5.1</td>\n",
       "      <td>3.5</td>\n",
       "      <td>1.4</td>\n",
       "      <td>0.2</td>\n",
       "      <td>Iris-setosa</td>\n",
       "    </tr>\n",
       "    <tr>\n",
       "      <th>1</th>\n",
       "      <td>4.9</td>\n",
       "      <td>3.0</td>\n",
       "      <td>1.4</td>\n",
       "      <td>0.2</td>\n",
       "      <td>Iris-setosa</td>\n",
       "    </tr>\n",
       "    <tr>\n",
       "      <th>2</th>\n",
       "      <td>NaN</td>\n",
       "      <td>3.2</td>\n",
       "      <td>1.3</td>\n",
       "      <td>0.2</td>\n",
       "      <td>Iris-setosa</td>\n",
       "    </tr>\n",
       "    <tr>\n",
       "      <th>3</th>\n",
       "      <td>4.6</td>\n",
       "      <td>3.1</td>\n",
       "      <td>1.5</td>\n",
       "      <td>0.2</td>\n",
       "      <td>Iris-setosa</td>\n",
       "    </tr>\n",
       "    <tr>\n",
       "      <th>4</th>\n",
       "      <td>5.0</td>\n",
       "      <td>3.6</td>\n",
       "      <td>1.4</td>\n",
       "      <td>0.2</td>\n",
       "      <td>Iris-setosa</td>\n",
       "    </tr>\n",
       "  </tbody>\n",
       "</table>\n",
       "</div>"
      ],
      "text/plain": [
       "    SL   SW   PL   PW Classification\n",
       "0  5.1  3.5  1.4  0.2    Iris-setosa\n",
       "1  4.9  3.0  1.4  0.2    Iris-setosa\n",
       "2  NaN  3.2  1.3  0.2    Iris-setosa\n",
       "3  4.6  3.1  1.5  0.2    Iris-setosa\n",
       "4  5.0  3.6  1.4  0.2    Iris-setosa"
      ]
     },
     "execution_count": 115,
     "metadata": {},
     "output_type": "execute_result"
    }
   ],
   "source": [
    "# Check the head of iris_data\n",
    "iris_data.head()"
   ]
  },
  {
   "cell_type": "code",
   "execution_count": 116,
   "id": "aa38f327",
   "metadata": {},
   "outputs": [
    {
     "name": "stdout",
     "output_type": "stream",
     "text": [
      "<class 'pandas.core.frame.DataFrame'>\n",
      "RangeIndex: 150 entries, 0 to 149\n",
      "Data columns (total 5 columns):\n",
      " #   Column          Non-Null Count  Dtype  \n",
      "---  ------          --------------  -----  \n",
      " 0   SL              143 non-null    float64\n",
      " 1   SW              144 non-null    float64\n",
      " 2   PL              144 non-null    float64\n",
      " 3   PW              150 non-null    float64\n",
      " 4   Classification  150 non-null    object \n",
      "dtypes: float64(4), object(1)\n",
      "memory usage: 6.0+ KB\n"
     ]
    }
   ],
   "source": [
    "# Check the basic details of the Iris dataset\n",
    "iris_data.info()"
   ]
  },
  {
   "cell_type": "code",
   "execution_count": 8,
   "id": "2239065a",
   "metadata": {},
   "outputs": [
    {
     "data": {
      "image/png": "[encoded data removed]",
      "text/plain": [
       "<Figure size 1080x720 with 4 Axes>"
      ]
     },
     "metadata": {
      "needs_background": "light"
     },
     "output_type": "display_data"
    }
   ],
   "source": [
    "#Check the visualizations for float datatype columns\n",
    "freqgraph = iris_data.select_dtypes(include=['float64'])\n",
    "freqgraph.hist(figsize=(15,10))\n",
    "plt.show()"
   ]
  },
  {
   "cell_type": "markdown",
   "id": "b7d87e67",
   "metadata": {},
   "source": [
    "# 2. Do necessary pre-processing steps."
   ]
  },
  {
   "cell_type": "markdown",
   "id": "a0d714f1",
   "metadata": {},
   "source": [
    "# 2.1 - Filling missing values for 'SL' "
   ]
  },
  {
   "cell_type": "code",
   "execution_count": 9,
   "id": "ff75802a",
   "metadata": {},
   "outputs": [
    {
     "data": {
      "text/plain": [
       "count    143.000000\n",
       "mean       5.855944\n",
       "std        0.828168\n",
       "min        4.300000\n",
       "25%        5.100000\n",
       "50%        5.800000\n",
       "75%        6.400000\n",
       "max        7.900000\n",
       "Name: SL, dtype: float64"
      ]
     },
     "execution_count": 9,
     "metadata": {},
     "output_type": "execute_result"
    }
   ],
   "source": [
    "# Use describe to check the stats for 'SL'\n",
    "iris_data['SL'].describe()"
   ]
  },
  {
   "cell_type": "code",
   "execution_count": 19,
   "id": "e7c9f393",
   "metadata": {},
   "outputs": [],
   "source": [
    "# Find the median for 'SL' in order to check if it matches 50 percentile as shown in the describe function\n",
    "Median_SL = np.nanmedian(iris_data['SL'])"
   ]
  },
  {
   "cell_type": "code",
   "execution_count": 20,
   "id": "8962c97b",
   "metadata": {},
   "outputs": [
    {
     "data": {
      "text/plain": [
       "5.8"
      ]
     },
     "execution_count": 20,
     "metadata": {},
     "output_type": "execute_result"
    }
   ],
   "source": [
    "Median_SL"
   ]
  },
  {
   "cell_type": "code",
   "execution_count": 117,
   "id": "e12f1c56",
   "metadata": {},
   "outputs": [],
   "source": [
    "# We could seethat 'SL' has a near to normal distribution where mean and median are almost equal.\n",
    "# So we can replace the missing values of 'SL' with median\n",
    "iris_data['SL']=iris_data['SL'].fillna(iris_data['SL'].median())"
   ]
  },
  {
   "cell_type": "code",
   "execution_count": 118,
   "id": "55290b02",
   "metadata": {},
   "outputs": [
    {
     "name": "stderr",
     "output_type": "stream",
     "text": [
      "C:\\Users\\MY BOOK\\anaconda3\\lib\\site-packages\\seaborn\\distributions.py:2557: FutureWarning: `distplot` is a deprecated function and will be removed in a future version. Please adapt your code to use either `displot` (a figure-level function with similar flexibility) or `histplot` (an axes-level function for histograms).\n",
      "  warnings.warn(msg, FutureWarning)\n"
     ]
    },
    {
     "data": {
      "text/plain": [
       "<AxesSubplot:xlabel='SL', ylabel='Density'>"
      ]
     },
     "execution_count": 118,
     "metadata": {},
     "output_type": "execute_result"
    },
    {
     "data": {
      "image/png": "[encoded data removed]",
      "text/plain": [
       "<Figure size 720x432 with 1 Axes>"
      ]
     },
     "metadata": {
      "needs_background": "light"
     },
     "output_type": "display_data"
    }
   ],
   "source": [
    "# Plot for \"SL\" after filling the missing values with 'median'\n",
    "fig , ax = plt.subplots(figsize=(10,6))\n",
    "sns.distplot(iris_data['SL'])"
   ]
  },
  {
   "cell_type": "code",
   "execution_count": 23,
   "id": "8264e31e",
   "metadata": {},
   "outputs": [
    {
     "name": "stdout",
     "output_type": "stream",
     "text": [
      "<class 'pandas.core.frame.DataFrame'>\n",
      "RangeIndex: 150 entries, 0 to 149\n",
      "Data columns (total 5 columns):\n",
      " #   Column          Non-Null Count  Dtype  \n",
      "---  ------          --------------  -----  \n",
      " 0   SL              150 non-null    float64\n",
      " 1   SW              144 non-null    float64\n",
      " 2   PL              144 non-null    float64\n",
      " 3   PW              150 non-null    float64\n",
      " 4   Classification  150 non-null    object \n",
      "dtypes: float64(4), object(1)\n",
      "memory usage: 6.0+ KB\n"
     ]
    }
   ],
   "source": [
    "# Check the dataset and see whether 'SL' has any missing values \n",
    "iris_data.info()"
   ]
  },
  {
   "cell_type": "markdown",
   "id": "0315256f",
   "metadata": {},
   "source": [
    "# 2.2 - Filling missing values for 'SW' "
   ]
  },
  {
   "cell_type": "code",
   "execution_count": 119,
   "id": "d5d65094",
   "metadata": {},
   "outputs": [
    {
     "data": {
      "text/plain": [
       "count    144.000000\n",
       "mean       3.049306\n",
       "std        0.430644\n",
       "min        2.000000\n",
       "25%        2.800000\n",
       "50%        3.000000\n",
       "75%        3.300000\n",
       "max        4.400000\n",
       "Name: SW, dtype: float64"
      ]
     },
     "execution_count": 119,
     "metadata": {},
     "output_type": "execute_result"
    }
   ],
   "source": [
    "# Check the stats for 'SW'\n",
    "iris_data['SW'].describe()"
   ]
  },
  {
   "cell_type": "code",
   "execution_count": 25,
   "id": "76067d5c",
   "metadata": {},
   "outputs": [],
   "source": [
    "# Check if 50 percentile data is the same as median for 'SW'\n",
    "Median_SW = np.nanmedian(iris_data['SW'])"
   ]
  },
  {
   "cell_type": "code",
   "execution_count": 26,
   "id": "a39a580e",
   "metadata": {},
   "outputs": [
    {
     "data": {
      "text/plain": [
       "3.0"
      ]
     },
     "execution_count": 26,
     "metadata": {},
     "output_type": "execute_result"
    }
   ],
   "source": [
    "Median_SW"
   ]
  },
  {
   "cell_type": "code",
   "execution_count": 120,
   "id": "aa2faa41",
   "metadata": {},
   "outputs": [],
   "source": [
    "# We could seethat 'SW' has a near to normal distribution where mean and median are almost equal.\n",
    "# So we can replace the missing values of 'SW' with median\n",
    "iris_data['SW']=iris_data['SW'].fillna(iris_data['SW'].median())"
   ]
  },
  {
   "cell_type": "code",
   "execution_count": 121,
   "id": "a1286efe",
   "metadata": {},
   "outputs": [
    {
     "name": "stderr",
     "output_type": "stream",
     "text": [
      "C:\\Users\\MY BOOK\\anaconda3\\lib\\site-packages\\seaborn\\distributions.py:2557: FutureWarning: `distplot` is a deprecated function and will be removed in a future version. Please adapt your code to use either `displot` (a figure-level function with similar flexibility) or `histplot` (an axes-level function for histograms).\n",
      "  warnings.warn(msg, FutureWarning)\n"
     ]
    },
    {
     "data": {
      "text/plain": [
       "<AxesSubplot:xlabel='SW', ylabel='Density'>"
      ]
     },
     "execution_count": 121,
     "metadata": {},
     "output_type": "execute_result"
    },
    {
     "data": {
      "image/png": "[encoded data removed]",
      "text/plain": [
       "<Figure size 720x432 with 1 Axes>"
      ]
     },
     "metadata": {
      "needs_background": "light"
     },
     "output_type": "display_data"
    }
   ],
   "source": [
    "# Plot for \"SW\" after filling the missing values with 'median'\n",
    "fig , ax = plt.subplots(figsize=(10,6))\n",
    "sns.distplot(iris_data['SW'])"
   ]
  },
  {
   "cell_type": "code",
   "execution_count": 122,
   "id": "413e90c8",
   "metadata": {},
   "outputs": [
    {
     "name": "stdout",
     "output_type": "stream",
     "text": [
      "<class 'pandas.core.frame.DataFrame'>\n",
      "RangeIndex: 150 entries, 0 to 149\n",
      "Data columns (total 5 columns):\n",
      " #   Column          Non-Null Count  Dtype  \n",
      "---  ------          --------------  -----  \n",
      " 0   SL              150 non-null    float64\n",
      " 1   SW              150 non-null    float64\n",
      " 2   PL              144 non-null    float64\n",
      " 3   PW              150 non-null    float64\n",
      " 4   Classification  150 non-null    object \n",
      "dtypes: float64(4), object(1)\n",
      "memory usage: 6.0+ KB\n"
     ]
    }
   ],
   "source": [
    "# Check the iris dataset and see if 'SW' has anymore missing data\n",
    "iris_data.info()"
   ]
  },
  {
   "cell_type": "markdown",
   "id": "bce4de0b",
   "metadata": {},
   "source": [
    "# 2.3 - Filling missing values for 'PL' "
   ]
  },
  {
   "cell_type": "code",
   "execution_count": 123,
   "id": "de332e77",
   "metadata": {},
   "outputs": [
    {
     "data": {
      "text/plain": [
       "count    144.000000\n",
       "mean       3.756250\n",
       "std        1.761306\n",
       "min        1.000000\n",
       "25%        1.600000\n",
       "50%        4.350000\n",
       "75%        5.100000\n",
       "max        6.900000\n",
       "Name: PL, dtype: float64"
      ]
     },
     "execution_count": 123,
     "metadata": {},
     "output_type": "execute_result"
    }
   ],
   "source": [
    "iris_data['PL'].describe()"
   ]
  },
  {
   "cell_type": "code",
   "execution_count": 31,
   "id": "17110d8b",
   "metadata": {},
   "outputs": [],
   "source": [
    "# Check if median of 'PL' is the same as 50 percentile as shown in describe\n",
    "Median_PL = np.nanmedian(iris_data['PL'])"
   ]
  },
  {
   "cell_type": "code",
   "execution_count": 32,
   "id": "a0d881a3",
   "metadata": {},
   "outputs": [
    {
     "data": {
      "text/plain": [
       "4.35"
      ]
     },
     "execution_count": 32,
     "metadata": {},
     "output_type": "execute_result"
    }
   ],
   "source": [
    "Median_PL"
   ]
  },
  {
   "cell_type": "markdown",
   "id": "0cfd090f",
   "metadata": {},
   "source": [
    "# The median seems to be varying a bit from the mean for 'PL'. So let's visualize 'PL' distribution to find the strategy for filling missing values "
   ]
  },
  {
   "cell_type": "code",
   "execution_count": 125,
   "id": "7c4dcf0d",
   "metadata": {},
   "outputs": [
    {
     "name": "stderr",
     "output_type": "stream",
     "text": [
      "C:\\Users\\MY BOOK\\anaconda3\\lib\\site-packages\\seaborn\\distributions.py:2557: FutureWarning: `distplot` is a deprecated function and will be removed in a future version. Please adapt your code to use either `displot` (a figure-level function with similar flexibility) or `histplot` (an axes-level function for histograms).\n",
      "  warnings.warn(msg, FutureWarning)\n"
     ]
    },
    {
     "data": {
      "text/plain": [
       "<AxesSubplot:xlabel='PL', ylabel='Density'>"
      ]
     },
     "execution_count": 125,
     "metadata": {},
     "output_type": "execute_result"
    },
    {
     "data": {
      "image/png": "[encoded data removed]",
      "text/plain": [
       "<Figure size 360x216 with 1 Axes>"
      ]
     },
     "metadata": {
      "needs_background": "light"
     },
     "output_type": "display_data"
    }
   ],
   "source": [
    "\n",
    "# Plot for \"PL\" after filling the missing values with 'median'\n",
    "fig , ax = plt.subplots(figsize=(5,3))\n",
    "sns.distplot(iris_data['PL'])"
   ]
  },
  {
   "cell_type": "code",
   "execution_count": 126,
   "id": "25eafe2a",
   "metadata": {},
   "outputs": [],
   "source": [
    "# We could seethat 'PL' has a near to normal distribution where the midpoint has a wavy trend .\n",
    "# So we can replace the missing values of 'PL' with median as mean would have been affected by extreme values\n",
    "iris_data['PL']=iris_data['PL'].fillna(iris_data['PL'].median())"
   ]
  },
  {
   "cell_type": "code",
   "execution_count": 128,
   "id": "f43f27e6",
   "metadata": {},
   "outputs": [
    {
     "name": "stderr",
     "output_type": "stream",
     "text": [
      "C:\\Users\\MY BOOK\\anaconda3\\lib\\site-packages\\seaborn\\distributions.py:2557: FutureWarning: `distplot` is a deprecated function and will be removed in a future version. Please adapt your code to use either `displot` (a figure-level function with similar flexibility) or `histplot` (an axes-level function for histograms).\n",
      "  warnings.warn(msg, FutureWarning)\n"
     ]
    },
    {
     "data": {
      "text/plain": [
       "<AxesSubplot:xlabel='PL', ylabel='Density'>"
      ]
     },
     "execution_count": 128,
     "metadata": {},
     "output_type": "execute_result"
    },
    {
     "data": {
      "image/png": "[encoded data removed]",
      "text/plain": [
       "<Figure size 360x216 with 1 Axes>"
      ]
     },
     "metadata": {
      "needs_background": "light"
     },
     "output_type": "display_data"
    }
   ],
   "source": [
    "# Plot for \"PL\" after filling the missing values with 'median'\n",
    "fig , ax = plt.subplots(figsize=(5,3))\n",
    "sns.distplot(iris_data['PL'])"
   ]
  },
  {
   "cell_type": "code",
   "execution_count": 129,
   "id": "114b84c6",
   "metadata": {},
   "outputs": [
    {
     "name": "stdout",
     "output_type": "stream",
     "text": [
      "<class 'pandas.core.frame.DataFrame'>\n",
      "RangeIndex: 150 entries, 0 to 149\n",
      "Data columns (total 5 columns):\n",
      " #   Column          Non-Null Count  Dtype  \n",
      "---  ------          --------------  -----  \n",
      " 0   SL              150 non-null    float64\n",
      " 1   SW              150 non-null    float64\n",
      " 2   PL              150 non-null    float64\n",
      " 3   PW              150 non-null    float64\n",
      " 4   Classification  150 non-null    object \n",
      "dtypes: float64(4), object(1)\n",
      "memory usage: 6.0+ KB\n"
     ]
    }
   ],
   "source": [
    "iris_data.info()"
   ]
  },
  {
   "cell_type": "markdown",
   "id": "6e2d8c20",
   "metadata": {},
   "source": [
    "# Finding outlliers for 'SL'"
   ]
  },
  {
   "cell_type": "code",
   "execution_count": 131,
   "id": "cbedc189",
   "metadata": {},
   "outputs": [],
   "source": [
    "# Calculate quartile values for 'SL' using 25 , 50 and 75 percentilevalues\n",
    "Q1_SL = np.percentile(iris_data['SL'],25,interpolation='midpoint')\n",
    "Q2_SL = np.percentile(iris_data['SL'],50,interpolation='midpoint')\n",
    "Q3_SL = np.percentile(iris_data['SL'],75,interpolation='midpoint')\n",
    "\n",
    "# Calculate Interquartile Range, Low limit and higher limit for 'SL'\n",
    "IQR_SL = Q3_SL - Q1_SL\n",
    "Low_Lim_SL = Q1_SL - 1.5*IQR_SL\n",
    "High_Lim_SL = Q3_SL + 1.5*IQR_SL\n",
    "\n",
    "# Find all outlier values SL \n",
    "outlier_SL_using_quartile = []\n",
    "for x in iris_data['SL']:\n",
    "    if ( x < Low_Lim_SL ) or ( x > High_Lim_SL ):\n",
    "        outlier_SL_using_quartile.append(x)\n",
    "    "
   ]
  },
  {
   "cell_type": "code",
   "execution_count": 88,
   "id": "d7b1422d",
   "metadata": {},
   "outputs": [
    {
     "data": {
      "text/plain": [
       "[]"
      ]
     },
     "execution_count": 88,
     "metadata": {},
     "output_type": "execute_result"
    }
   ],
   "source": [
    "outlier_SL_using_quartile"
   ]
  },
  {
   "cell_type": "markdown",
   "id": "700196d5",
   "metadata": {},
   "source": [
    "# There are no outlier values for 'SL' and therefore no data needs to be dropped because of extreme values of 'SL' "
   ]
  },
  {
   "cell_type": "markdown",
   "id": "4a0bd36e",
   "metadata": {},
   "source": [
    "# Finding outlliers for 'PW'"
   ]
  },
  {
   "cell_type": "code",
   "execution_count": 132,
   "id": "9f263ac8",
   "metadata": {},
   "outputs": [],
   "source": [
    "# Calculate quartile values for 'PW' using 25 , 50 and 75 percentile values\n",
    "Q1_PW = np.percentile(iris_data['PW'],25,interpolation='midpoint')\n",
    "Q2_PW = np.percentile(iris_data['PW'],50,interpolation='midpoint')\n",
    "Q3_PW = np.percentile(iris_data['PW'],75,interpolation='midpoint')\n",
    "\n",
    "# Calculate IQR, Low limit and high limit values for 'PW'\n",
    "IQR_PW = Q3_PW - Q1_PW\n",
    "Low_Lim_PW = Q1_PW - 1.5*IQR_PW\n",
    "High_Lim_PW = Q3_PW + 1.5*IQR_PW\n",
    "\n",
    "# Find all outlier values for 'PW'\n",
    "outlier_PW_using_quartile = []\n",
    "for x in iris_data['PW']:\n",
    "    if ( x < Low_Lim_PW ) or ( x > High_Lim_PW ):\n",
    "        outlier_PW_using_quartile.append(x)\n",
    "    "
   ]
  },
  {
   "cell_type": "code",
   "execution_count": 133,
   "id": "f88ca157",
   "metadata": {},
   "outputs": [
    {
     "data": {
      "text/plain": [
       "[]"
      ]
     },
     "execution_count": 133,
     "metadata": {},
     "output_type": "execute_result"
    }
   ],
   "source": [
    "outlier_PW_using_quartile"
   ]
  },
  {
   "cell_type": "markdown",
   "id": "4f2d8637",
   "metadata": {},
   "source": [
    "# There are no outlier values for 'PW' and therefore no data needs to be dropped because of extreme values of 'PW' "
   ]
  },
  {
   "cell_type": "markdown",
   "id": "5d914314",
   "metadata": {},
   "source": [
    "# Finding outlliers for 'SW'"
   ]
  },
  {
   "cell_type": "code",
   "execution_count": 134,
   "id": "68cb400f",
   "metadata": {},
   "outputs": [],
   "source": [
    "# Calculate quartile values for 'SW' using 25 , 50 and 75 percentile values\n",
    "Q1_SW = np.percentile(iris_data['SW'],25,interpolation='midpoint')\n",
    "Q2_SW = np.percentile(iris_data['SW'],50,interpolation='midpoint')\n",
    "Q3_SW = np.percentile(iris_data['SW'],75,interpolation='midpoint')\n",
    "\n",
    "# Find IQR, Low limit and higher limit values for 'SW'\n",
    "IQR_SW = Q3_SW - Q1_SW\n",
    "Low_Lim_SW = Q1_SW - 1.5*IQR_SW\n",
    "High_Lim_SW = Q3_SW + 1.5*IQR_SW\n",
    "\n",
    "# Find all outlier values for 'SW' \n",
    "outlier_SW_using_quartile = []\n",
    "for x in iris_data['SW']:\n",
    "    if ( x < Low_Lim_SW ) or ( x > High_Lim_SW ):\n",
    "        outlier_SW_using_quartile.append(x)\n",
    "    "
   ]
  },
  {
   "cell_type": "code",
   "execution_count": 135,
   "id": "76366070",
   "metadata": {},
   "outputs": [
    {
     "data": {
      "text/plain": [
       "[4.0, 4.4, 4.1, 4.2, 2.0]"
      ]
     },
     "execution_count": 135,
     "metadata": {},
     "output_type": "execute_result"
    }
   ],
   "source": [
    "outlier_SW_using_quartile"
   ]
  },
  {
   "cell_type": "markdown",
   "id": "67402a69",
   "metadata": {},
   "source": [
    "# The values 4.0, 4.4 , 4.1 , 4.2 and 2.0 seems to be outliers for 'SW' and needs to be dropped"
   ]
  },
  {
   "cell_type": "code",
   "execution_count": 136,
   "id": "248e1cf9",
   "metadata": {},
   "outputs": [
    {
     "data": {
      "text/plain": [
       "Int64Index([14, 15, 32, 33], dtype='int64')"
      ]
     },
     "execution_count": 136,
     "metadata": {},
     "output_type": "execute_result"
    }
   ],
   "source": [
    "# Let's find out which are the higher outlier SW indexes\n",
    "indi_outlier_SW = []\n",
    "indi_outlier_SW = iris_data['SW'] > High_Lim_SW\n",
    "iris_data.loc[indi_outlier_SW].index\n",
    "\n"
   ]
  },
  {
   "cell_type": "code",
   "execution_count": 137,
   "id": "67ba8b13",
   "metadata": {},
   "outputs": [
    {
     "data": {
      "text/plain": [
       "Int64Index([60], dtype='int64')"
      ]
     },
     "execution_count": 137,
     "metadata": {},
     "output_type": "execute_result"
    }
   ],
   "source": [
    "# Let's find out which are the lower outlier SW indexes\n",
    "indi_outlier_SW = iris_data['SW'] < Low_Lim_SW\n",
    "iris_data.loc[indi_outlier_SW].index"
   ]
  },
  {
   "cell_type": "code",
   "execution_count": 138,
   "id": "7211cca6",
   "metadata": {},
   "outputs": [],
   "source": [
    "# Let's drop the indexes having outlier values for 'SW' \n",
    "iris_data.drop([ 14, 15, 32, 33, 60],inplace=True)"
   ]
  },
  {
   "cell_type": "markdown",
   "id": "614394e0",
   "metadata": {},
   "source": [
    "# Finding outlliers for 'PL'"
   ]
  },
  {
   "cell_type": "code",
   "execution_count": 139,
   "id": "e369a4ea",
   "metadata": {},
   "outputs": [],
   "source": [
    "# Calculate quartile values for 'PL' using 25 , 50 and 75 percentilevalues\n",
    "Q1_PL = np.percentile(iris_data['PL'],25,interpolation='midpoint')\n",
    "Q2_PL = np.percentile(iris_data['PL'],50,interpolation='midpoint')\n",
    "Q3_PL = np.percentile(iris_data['PL'],75,interpolation='midpoint')\n",
    "\n",
    "# Finding IQL, low and high limit values for 'PL'\n",
    "IQR_PL = Q3_PL - Q1_PL\n",
    "Low_Lim_PL = Q1_PL - 1.5*IQR_PL\n",
    "High_Lim_PL = Q3_PL + 1.5*IQR_PL\n",
    "\n",
    "# Find all outlier values PL\n",
    "outlier_PL_using_quartile = []\n",
    "for x in iris_data['PL']:\n",
    "    if ( x < Low_Lim_PL ) or ( x > High_Lim_PL ):\n",
    "        outlier_PL_using_quartile.append(x)\n",
    "    "
   ]
  },
  {
   "cell_type": "code",
   "execution_count": 140,
   "id": "49ef0942",
   "metadata": {},
   "outputs": [
    {
     "data": {
      "text/plain": [
       "[]"
      ]
     },
     "execution_count": 140,
     "metadata": {},
     "output_type": "execute_result"
    }
   ],
   "source": [
    "outlier_PL_using_quartile"
   ]
  },
  {
   "cell_type": "markdown",
   "id": "72eed6b5",
   "metadata": {},
   "source": [
    "# There are no outlier values for PL and no values needs to be dropped  "
   ]
  },
  {
   "cell_type": "code",
   "execution_count": 141,
   "id": "899c87e9",
   "metadata": {},
   "outputs": [
    {
     "name": "stdout",
     "output_type": "stream",
     "text": [
      "<class 'pandas.core.frame.DataFrame'>\n",
      "Int64Index: 145 entries, 0 to 149\n",
      "Data columns (total 5 columns):\n",
      " #   Column          Non-Null Count  Dtype  \n",
      "---  ------          --------------  -----  \n",
      " 0   SL              145 non-null    float64\n",
      " 1   SW              145 non-null    float64\n",
      " 2   PL              145 non-null    float64\n",
      " 3   PW              145 non-null    float64\n",
      " 4   Classification  145 non-null    object \n",
      "dtypes: float64(4), object(1)\n",
      "memory usage: 6.8+ KB\n"
     ]
    }
   ],
   "source": [
    "iris_data.info()"
   ]
  },
  {
   "cell_type": "markdown",
   "id": "186cd8b1",
   "metadata": {},
   "source": [
    "# 3. Find out which classification model gives the best result to predict iris species.(also do random forest algorithm)"
   ]
  },
  {
   "cell_type": "code",
   "execution_count": 142,
   "id": "8adc9506",
   "metadata": {},
   "outputs": [
    {
     "data": {
      "text/plain": [
       "<AxesSubplot:ylabel='Classification'>"
      ]
     },
     "execution_count": 142,
     "metadata": {},
     "output_type": "execute_result"
    },
    {
     "data": {
      "image/png": "[encoded data removed]",
      "text/plain": [
       "<Figure size 432x288 with 1 Axes>"
      ]
     },
     "metadata": {},
     "output_type": "display_data"
    }
   ],
   "source": [
    "# Let's check the probable distribution of Iris classifications using a pie chart\n",
    "iris_data.groupby('Classification').size().plot(kind='pie', autopct='%.2f',ylabel=\"Classification\")"
   ]
  },
  {
   "cell_type": "markdown",
   "id": "10adc30e",
   "metadata": {},
   "source": [
    "# 3. Find out which classification model gives the best result to predict iris species.(also do random forest algorithm)"
   ]
  },
  {
   "cell_type": "code",
   "execution_count": 154,
   "id": "220ddae9",
   "metadata": {},
   "outputs": [],
   "source": [
    "# Do the imports of necessary functions\n",
    "from sklearn.metrics import confusion_matrix\n",
    "from sklearn.metrics import classification_report\n",
    "from sklearn.model_selection import train_test_split\n",
    "# Seperate the data into dependent and independent variables\n",
    "X = iris_data.drop('Classification',axis=1)\n",
    "y = iris_data['Classification']\n",
    "\n",
    "# Splitting the dataset into the Training set and Test set\n",
    "X_train, X_test, y_train, y_test = train_test_split(X, y, test_size = 0.25, random_state = 42)"
   ]
  },
  {
   "cell_type": "markdown",
   "id": "a05f16dc",
   "metadata": {},
   "source": [
    "# Predicting the species (\"Classification\") using Logistic Regression"
   ]
  },
  {
   "cell_type": "code",
   "execution_count": 155,
   "id": "627d2f4f",
   "metadata": {},
   "outputs": [
    {
     "name": "stdout",
     "output_type": "stream",
     "text": [
      "                 precision    recall  f1-score   support\n",
      "\n",
      "    Iris-setosa       1.00      0.93      0.96        14\n",
      "Iris-versicolor       0.73      0.89      0.80         9\n",
      " Iris-virginica       0.92      0.86      0.89        14\n",
      "\n",
      "       accuracy                           0.89        37\n",
      "      macro avg       0.88      0.89      0.88        37\n",
      "   weighted avg       0.90      0.89      0.90        37\n",
      "\n",
      "[[13  1  0]\n",
      " [ 0  8  1]\n",
      " [ 0  2 12]]\n",
      "accuracy for Logistic regression For finding Iris species is -  0.8918918918918919\n"
     ]
    },
    {
     "name": "stderr",
     "output_type": "stream",
     "text": [
      "C:\\Users\\MY BOOK\\anaconda3\\lib\\site-packages\\sklearn\\linear_model\\_logistic.py:763: ConvergenceWarning: lbfgs failed to converge (status=1):\n",
      "STOP: TOTAL NO. of ITERATIONS REACHED LIMIT.\n",
      "\n",
      "Increase the number of iterations (max_iter) or scale the data as shown in:\n",
      "    https://scikit-learn.org/stable/modules/preprocessing.html\n",
      "Please also refer to the documentation for alternative solver options:\n",
      "    https://scikit-learn.org/stable/modules/linear_model.html#logistic-regression\n",
      "  n_iter_i = _check_optimize_result(\n"
     ]
    }
   ],
   "source": [
    "from sklearn.linear_model import LogisticRegression\n",
    "classifier = LogisticRegression()\n",
    "classifier.fit(X_train, y_train)\n",
    "\n",
    "y_pred_log_reg = classifier.predict(X_test)\n",
    "\n",
    "# Summary of the predictions made by the classifier\n",
    "print(classification_report(y_test, y_pred_log_reg))\n",
    "print(confusion_matrix(y_test, y_pred_log_reg))\n",
    "# Accuracy score\n",
    "from sklearn.metrics import accuracy_score\n",
    "print('accuracy for Logistic regression For finding Iris species is - ',accuracy_score(y_pred_log_reg,y_test))\n"
   ]
  },
  {
   "cell_type": "markdown",
   "id": "5d1ee7ed",
   "metadata": {},
   "source": [
    "# Predicting the species (\"Classification\") using K-Nearest Neighbours"
   ]
  },
  {
   "cell_type": "code",
   "execution_count": 156,
   "id": "6622a36f",
   "metadata": {},
   "outputs": [
    {
     "name": "stdout",
     "output_type": "stream",
     "text": [
      "                 precision    recall  f1-score   support\n",
      "\n",
      "    Iris-setosa       1.00      0.93      0.96        14\n",
      "Iris-versicolor       0.67      0.89      0.76         9\n",
      " Iris-virginica       0.92      0.79      0.85        14\n",
      "\n",
      "       accuracy                           0.86        37\n",
      "      macro avg       0.86      0.87      0.86        37\n",
      "   weighted avg       0.89      0.86      0.87        37\n",
      "\n",
      "[[13  1  0]\n",
      " [ 0  8  1]\n",
      " [ 0  3 11]]\n",
      "accuracy for KNN model in predicting the Iris species is : -  0.8648648648648649\n"
     ]
    }
   ],
   "source": [
    "# K-Nearest Neighbours\n",
    "from sklearn.neighbors import KNeighborsClassifier\n",
    "\n",
    "classifier = KNeighborsClassifier(n_neighbors=6)\n",
    "classifier.fit(X_train, y_train)\n",
    "\n",
    "y_pred_KNN = classifier.predict(X_test)\n",
    "\n",
    "# Summary of the predictions made by the classifier\n",
    "print(classification_report(y_test, y_pred_KNN))\n",
    "print(confusion_matrix(y_test, y_pred_KNN))\n",
    "# Accuracy score\n",
    "from sklearn.metrics import accuracy_score\n",
    "print('accuracy for KNN model in predicting the Iris species is : - ',accuracy_score(y_pred_KNN,y_test))"
   ]
  },
  {
   "cell_type": "markdown",
   "id": "a430ad80",
   "metadata": {},
   "source": [
    "# Predicting the species (\"Classification\") using Support Vector Machine"
   ]
  },
  {
   "cell_type": "code",
   "execution_count": 157,
   "id": "727e7576",
   "metadata": {},
   "outputs": [
    {
     "name": "stdout",
     "output_type": "stream",
     "text": [
      "                 precision    recall  f1-score   support\n",
      "\n",
      "    Iris-setosa       1.00      0.93      0.96        14\n",
      "Iris-versicolor       0.67      0.89      0.76         9\n",
      " Iris-virginica       0.92      0.79      0.85        14\n",
      "\n",
      "       accuracy                           0.86        37\n",
      "      macro avg       0.86      0.87      0.86        37\n",
      "   weighted avg       0.89      0.86      0.87        37\n",
      "\n",
      "[[13  1  0]\n",
      " [ 0  8  1]\n",
      " [ 0  3 11]]\n",
      "accuracy for SVM Model in predicting the Iris species is  0.8648648648648649\n"
     ]
    }
   ],
   "source": [
    "# Support Vector Machine's \n",
    "from sklearn.svm import SVC\n",
    "\n",
    "classifier = SVC()\n",
    "classifier.fit(X_train, y_train)\n",
    "\n",
    "y_pred_SVM = classifier.predict(X_test)\n",
    "\n",
    "# Summary of the predictions made by the classifier\n",
    "print(classification_report(y_test, y_pred_SVM))\n",
    "print(confusion_matrix(y_test, y_pred_SVM))\n",
    "# Accuracy score\n",
    "from sklearn.metrics import accuracy_score\n",
    "print('accuracy for SVM Model in predicting the Iris species is ',accuracy_score(y_pred_SVM,y_test))"
   ]
  },
  {
   "cell_type": "markdown",
   "id": "bba84a3c",
   "metadata": {},
   "source": [
    "# Predicting the species (\"Classification\") using Decision tree"
   ]
  },
  {
   "cell_type": "code",
   "execution_count": 158,
   "id": "b01e0969",
   "metadata": {},
   "outputs": [
    {
     "name": "stdout",
     "output_type": "stream",
     "text": [
      "                 precision    recall  f1-score   support\n",
      "\n",
      "    Iris-setosa       1.00      1.00      1.00        14\n",
      "Iris-versicolor       0.80      0.89      0.84         9\n",
      " Iris-virginica       0.92      0.86      0.89        14\n",
      "\n",
      "       accuracy                           0.92        37\n",
      "      macro avg       0.91      0.92      0.91        37\n",
      "   weighted avg       0.92      0.92      0.92        37\n",
      "\n",
      "[[14  0  0]\n",
      " [ 0  8  1]\n",
      " [ 0  2 12]]\n",
      "accuracy for Decision tree model in predicting the Iris speciesis : -   0.918918918918919\n"
     ]
    }
   ],
   "source": [
    "# Decision Tree's\n",
    "from sklearn.tree import DecisionTreeClassifier\n",
    "\n",
    "classifier = DecisionTreeClassifier()\n",
    "\n",
    "classifier.fit(X_train, y_train)\n",
    "\n",
    "y_pred_DT = classifier.predict(X_test)\n",
    "\n",
    "# Summary of the predictions made by the classifier\n",
    "print(classification_report(y_test, y_pred_DT))\n",
    "print(confusion_matrix(y_test, y_pred_DT))\n",
    "# Accuracy score\n",
    "from sklearn.metrics import accuracy_score\n",
    "print('accuracy for Decision tree model in predicting the Iris speciesis : -  ',accuracy_score(y_pred_DT,y_test))"
   ]
  },
  {
   "cell_type": "markdown",
   "id": "eeeabbeb",
   "metadata": {},
   "source": [
    "# Predicting the species (\"Classification\") using Random Forest algorithm"
   ]
  },
  {
   "cell_type": "code",
   "execution_count": 152,
   "id": "4298e53c",
   "metadata": {},
   "outputs": [],
   "source": [
    "# Feature Scaling\n",
    "from sklearn.preprocessing import StandardScaler\n",
    "sc = StandardScaler()\n",
    "X_train = sc.fit_transform(X_train)\n",
    "X_test = sc.transform(X_test)"
   ]
  },
  {
   "cell_type": "code",
   "execution_count": 159,
   "id": "21639a4f",
   "metadata": {},
   "outputs": [
    {
     "name": "stdout",
     "output_type": "stream",
     "text": [
      "                 precision    recall  f1-score   support\n",
      "\n",
      "    Iris-setosa       1.00      1.00      1.00        14\n",
      "Iris-versicolor       0.89      0.89      0.89         9\n",
      " Iris-virginica       0.93      0.93      0.93        14\n",
      "\n",
      "       accuracy                           0.95        37\n",
      "      macro avg       0.94      0.94      0.94        37\n",
      "   weighted avg       0.95      0.95      0.95        37\n",
      "\n",
      "[[14  0  0]\n",
      " [ 0  8  1]\n",
      " [ 0  1 13]]\n",
      "accuracy for Random Forest model in predicting the Iris species is : -   0.9459459459459459\n"
     ]
    }
   ],
   "source": [
    "# Fitting Random Forest Classification to the Training set\n",
    "from sklearn.ensemble import RandomForestClassifier\n",
    "classifier = RandomForestClassifier(n_estimators = 10, criterion = 'entropy', random_state = 42)\n",
    "classifier.fit(X_train, y_train)\n",
    "\n",
    "# Predicting the Test set results\n",
    "y_pred_RF = classifier.predict(X_test)\n",
    "# Summary of the predictions made by the classifier\n",
    "print(classification_report(y_test, y_pred_RF))\n",
    "print(confusion_matrix(y_test, y_pred_RF))\n",
    "# Accuracy score\n",
    "from sklearn.metrics import accuracy_score\n",
    "print('accuracy for Random Forest model in predicting the Iris species is : -  ',accuracy_score(y_pred_RF,y_test))"
   ]
  },
  {
   "cell_type": "markdown",
   "id": "6c443c45",
   "metadata": {},
   "source": [
    "# We tried the Linear regression, KNN , SVM , decision tree and Random forest algorithms .\n",
    "\n",
    "# Out of all, the random forest came out with the best accuracy of prediction (0.945) followed by decsion tree model (0.913 )"
   ]
  },
  {
   "cell_type": "markdown",
   "id": "331bd2f5",
   "metadata": {},
   "source": [
    "# Submitted by Viswaraj Chandran"
   ]
  }
 ],
 "metadata": {
  "kernelspec": {
   "display_name": "Python 3",
   "language": "python",
   "name": "python3"
  },
  "language_info": {
   "codemirror_mode": {
    "name": "ipython",
    "version": 3
   },
   "file_extension": ".py",
   "mimetype": "text/x-python",
   "name": "python",
   "nbconvert_exporter": "python",
   "pygments_lexer": "ipython3",
   "version": "3.8.8"
  }
 },
 "nbformat": 4,
 "nbformat_minor": 5
}
